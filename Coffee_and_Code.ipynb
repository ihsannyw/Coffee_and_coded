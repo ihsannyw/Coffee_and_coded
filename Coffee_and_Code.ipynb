{
  "nbformat": 4,
  "nbformat_minor": 0,
  "metadata": {
    "colab": {
      "name": "Coffee and Code.ipynb",
      "provenance": [],
      "collapsed_sections": []
    },
    "kernelspec": {
      "name": "python3",
      "display_name": "Python 3"
    },
    "language_info": {
      "name": "python"
    }
  },
  "cells": [
    {
      "cell_type": "markdown",
      "metadata": {
        "id": "DwvUCf9JYCrN"
      },
      "source": [
        "#Coffee and Code\n",
        "by : Ihsanny Widyasari"
      ]
    },
    {
      "cell_type": "markdown",
      "metadata": {
        "id": "SSyoFDZ4YAnk"
      },
      "source": [
        "Importing Libraries"
      ]
    },
    {
      "cell_type": "code",
      "metadata": {
        "id": "7wqC7IH5TJW4"
      },
      "source": [
        "import numpy as np\n",
        "import pandas as pd\n",
        "import seaborn as sns\n",
        "import matplotlib.pyplot as plt\n",
        "import plotly.express as px"
      ],
      "execution_count": 34,
      "outputs": []
    },
    {
      "cell_type": "markdown",
      "metadata": {
        "id": "WkOLEqC_Xb7D"
      },
      "source": [
        "DATA"
      ]
    },
    {
      "cell_type": "markdown",
      "metadata": {
        "id": "XqyaEDsEmE3A"
      },
      "source": [
        "Having a cup of coffee by your side while doing job has become part of a habit. Drinking the right amount of coffee can help increase focus. According to the Acceptable Daily Intake (ADI), the limit for caffeine consumption is 400 milligrams a day, that's about four or five cups of coffee.\n",
        "\n",
        "This dataset provides information about coffee lovers and code developers in Lebanon and provides interesting data points from fields like -CodingHours, CoffeeCupsPerDay, CoffeeTime, CoffeeSolveBugs and Gender"
      ]
    },
    {
      "cell_type": "code",
      "metadata": {
        "colab": {
          "base_uri": "https://localhost:8080/",
          "height": 419
        },
        "id": "RfFz0iEKUM4e",
        "outputId": "85302b8f-f4ce-4d58-abb1-704d7a66ebb4"
      },
      "source": [
        "df = pd.read_csv('/content/drive/MyDrive/Food data/archive (4)/CoffeeAndCodeLT2018 - CoffeeAndCodeLT2018.csv')\n",
        "df"
      ],
      "execution_count": 35,
      "outputs": [
        {
          "output_type": "execute_result",
          "data": {
            "text/html": [
              "<div>\n",
              "<style scoped>\n",
              "    .dataframe tbody tr th:only-of-type {\n",
              "        vertical-align: middle;\n",
              "    }\n",
              "\n",
              "    .dataframe tbody tr th {\n",
              "        vertical-align: top;\n",
              "    }\n",
              "\n",
              "    .dataframe thead th {\n",
              "        text-align: right;\n",
              "    }\n",
              "</style>\n",
              "<table border=\"1\" class=\"dataframe\">\n",
              "  <thead>\n",
              "    <tr style=\"text-align: right;\">\n",
              "      <th></th>\n",
              "      <th>CodingHours</th>\n",
              "      <th>CoffeeCupsPerDay</th>\n",
              "      <th>CoffeeTime</th>\n",
              "      <th>CodingWithoutCoffee</th>\n",
              "      <th>CoffeeType</th>\n",
              "      <th>CoffeeSolveBugs</th>\n",
              "      <th>Gender</th>\n",
              "      <th>Country</th>\n",
              "      <th>AgeRange</th>\n",
              "    </tr>\n",
              "  </thead>\n",
              "  <tbody>\n",
              "    <tr>\n",
              "      <th>0</th>\n",
              "      <td>8</td>\n",
              "      <td>2</td>\n",
              "      <td>Before coding</td>\n",
              "      <td>Yes</td>\n",
              "      <td>Caffè latte</td>\n",
              "      <td>Sometimes</td>\n",
              "      <td>Female</td>\n",
              "      <td>Lebanon</td>\n",
              "      <td>18 to 29</td>\n",
              "    </tr>\n",
              "    <tr>\n",
              "      <th>1</th>\n",
              "      <td>3</td>\n",
              "      <td>2</td>\n",
              "      <td>Before coding</td>\n",
              "      <td>Yes</td>\n",
              "      <td>Americano</td>\n",
              "      <td>Yes</td>\n",
              "      <td>Female</td>\n",
              "      <td>Lebanon</td>\n",
              "      <td>30 to 39</td>\n",
              "    </tr>\n",
              "    <tr>\n",
              "      <th>2</th>\n",
              "      <td>5</td>\n",
              "      <td>3</td>\n",
              "      <td>While coding</td>\n",
              "      <td>No</td>\n",
              "      <td>Nescafe</td>\n",
              "      <td>Yes</td>\n",
              "      <td>Female</td>\n",
              "      <td>Lebanon</td>\n",
              "      <td>18 to 29</td>\n",
              "    </tr>\n",
              "    <tr>\n",
              "      <th>3</th>\n",
              "      <td>8</td>\n",
              "      <td>2</td>\n",
              "      <td>Before coding</td>\n",
              "      <td>No</td>\n",
              "      <td>Nescafe</td>\n",
              "      <td>Yes</td>\n",
              "      <td>Male</td>\n",
              "      <td>Lebanon</td>\n",
              "      <td>NaN</td>\n",
              "    </tr>\n",
              "    <tr>\n",
              "      <th>4</th>\n",
              "      <td>10</td>\n",
              "      <td>3</td>\n",
              "      <td>While coding</td>\n",
              "      <td>Sometimes</td>\n",
              "      <td>Turkish</td>\n",
              "      <td>No</td>\n",
              "      <td>Male</td>\n",
              "      <td>Lebanon</td>\n",
              "      <td>18 to 29</td>\n",
              "    </tr>\n",
              "    <tr>\n",
              "      <th>...</th>\n",
              "      <td>...</td>\n",
              "      <td>...</td>\n",
              "      <td>...</td>\n",
              "      <td>...</td>\n",
              "      <td>...</td>\n",
              "      <td>...</td>\n",
              "      <td>...</td>\n",
              "      <td>...</td>\n",
              "      <td>...</td>\n",
              "    </tr>\n",
              "    <tr>\n",
              "      <th>95</th>\n",
              "      <td>6</td>\n",
              "      <td>2</td>\n",
              "      <td>Before coding</td>\n",
              "      <td>Yes</td>\n",
              "      <td>Nescafe</td>\n",
              "      <td>Yes</td>\n",
              "      <td>Male</td>\n",
              "      <td>Lebanon</td>\n",
              "      <td>18 to 29</td>\n",
              "    </tr>\n",
              "    <tr>\n",
              "      <th>96</th>\n",
              "      <td>4</td>\n",
              "      <td>1</td>\n",
              "      <td>Before coding</td>\n",
              "      <td>Sometimes</td>\n",
              "      <td>Nescafe</td>\n",
              "      <td>Sometimes</td>\n",
              "      <td>Female</td>\n",
              "      <td>Lebanon</td>\n",
              "      <td>18 to 29</td>\n",
              "    </tr>\n",
              "    <tr>\n",
              "      <th>97</th>\n",
              "      <td>10</td>\n",
              "      <td>3</td>\n",
              "      <td>Before coding</td>\n",
              "      <td>Yes</td>\n",
              "      <td>Cappuccino</td>\n",
              "      <td>Yes</td>\n",
              "      <td>Male</td>\n",
              "      <td>Lebanon</td>\n",
              "      <td>Under 18</td>\n",
              "    </tr>\n",
              "    <tr>\n",
              "      <th>98</th>\n",
              "      <td>2</td>\n",
              "      <td>2</td>\n",
              "      <td>While coding</td>\n",
              "      <td>Sometimes</td>\n",
              "      <td>Espresso (Short Black)</td>\n",
              "      <td>Sometimes</td>\n",
              "      <td>Female</td>\n",
              "      <td>Lebanon</td>\n",
              "      <td>18 to 29</td>\n",
              "    </tr>\n",
              "    <tr>\n",
              "      <th>99</th>\n",
              "      <td>10</td>\n",
              "      <td>4</td>\n",
              "      <td>Before coding</td>\n",
              "      <td>Sometimes</td>\n",
              "      <td>Double Espresso (Doppio)</td>\n",
              "      <td>Sometimes</td>\n",
              "      <td>Male</td>\n",
              "      <td>Lebanon</td>\n",
              "      <td>18 to 29</td>\n",
              "    </tr>\n",
              "  </tbody>\n",
              "</table>\n",
              "<p>100 rows × 9 columns</p>\n",
              "</div>"
            ],
            "text/plain": [
              "    CodingHours  CoffeeCupsPerDay     CoffeeTime  ...  Gender  Country  AgeRange\n",
              "0             8                 2  Before coding  ...  Female  Lebanon  18 to 29\n",
              "1             3                 2  Before coding  ...  Female  Lebanon  30 to 39\n",
              "2             5                 3   While coding  ...  Female  Lebanon  18 to 29\n",
              "3             8                 2  Before coding  ...    Male  Lebanon       NaN\n",
              "4            10                 3   While coding  ...    Male  Lebanon  18 to 29\n",
              "..          ...               ...            ...  ...     ...      ...       ...\n",
              "95            6                 2  Before coding  ...    Male  Lebanon  18 to 29\n",
              "96            4                 1  Before coding  ...  Female  Lebanon  18 to 29\n",
              "97           10                 3  Before coding  ...    Male  Lebanon  Under 18\n",
              "98            2                 2   While coding  ...  Female  Lebanon  18 to 29\n",
              "99           10                 4  Before coding  ...    Male  Lebanon  18 to 29\n",
              "\n",
              "[100 rows x 9 columns]"
            ]
          },
          "metadata": {},
          "execution_count": 35
        }
      ]
    },
    {
      "cell_type": "code",
      "metadata": {
        "colab": {
          "base_uri": "https://localhost:8080/"
        },
        "id": "OtxcUCXoYDDe",
        "outputId": "e3ab5acf-a771-430b-be05-5a47daebde98"
      },
      "source": [
        "df.info()"
      ],
      "execution_count": 36,
      "outputs": [
        {
          "output_type": "stream",
          "name": "stdout",
          "text": [
            "<class 'pandas.core.frame.DataFrame'>\n",
            "RangeIndex: 100 entries, 0 to 99\n",
            "Data columns (total 9 columns):\n",
            " #   Column               Non-Null Count  Dtype \n",
            "---  ------               --------------  ----- \n",
            " 0   CodingHours          100 non-null    int64 \n",
            " 1   CoffeeCupsPerDay     100 non-null    int64 \n",
            " 2   CoffeeTime           100 non-null    object\n",
            " 3   CodingWithoutCoffee  100 non-null    object\n",
            " 4   CoffeeType           99 non-null     object\n",
            " 5   CoffeeSolveBugs      100 non-null    object\n",
            " 6   Gender               100 non-null    object\n",
            " 7   Country              100 non-null    object\n",
            " 8   AgeRange             98 non-null     object\n",
            "dtypes: int64(2), object(7)\n",
            "memory usage: 7.2+ KB\n"
          ]
        }
      ]
    },
    {
      "cell_type": "code",
      "metadata": {
        "colab": {
          "base_uri": "https://localhost:8080/",
          "height": 204
        },
        "id": "nSH_O_rhXdLx",
        "outputId": "e24a0dc6-9223-4a4e-c19c-bf2c00f2466d"
      },
      "source": [
        "df.head(5)"
      ],
      "execution_count": 37,
      "outputs": [
        {
          "output_type": "execute_result",
          "data": {
            "text/html": [
              "<div>\n",
              "<style scoped>\n",
              "    .dataframe tbody tr th:only-of-type {\n",
              "        vertical-align: middle;\n",
              "    }\n",
              "\n",
              "    .dataframe tbody tr th {\n",
              "        vertical-align: top;\n",
              "    }\n",
              "\n",
              "    .dataframe thead th {\n",
              "        text-align: right;\n",
              "    }\n",
              "</style>\n",
              "<table border=\"1\" class=\"dataframe\">\n",
              "  <thead>\n",
              "    <tr style=\"text-align: right;\">\n",
              "      <th></th>\n",
              "      <th>CodingHours</th>\n",
              "      <th>CoffeeCupsPerDay</th>\n",
              "      <th>CoffeeTime</th>\n",
              "      <th>CodingWithoutCoffee</th>\n",
              "      <th>CoffeeType</th>\n",
              "      <th>CoffeeSolveBugs</th>\n",
              "      <th>Gender</th>\n",
              "      <th>Country</th>\n",
              "      <th>AgeRange</th>\n",
              "    </tr>\n",
              "  </thead>\n",
              "  <tbody>\n",
              "    <tr>\n",
              "      <th>0</th>\n",
              "      <td>8</td>\n",
              "      <td>2</td>\n",
              "      <td>Before coding</td>\n",
              "      <td>Yes</td>\n",
              "      <td>Caffè latte</td>\n",
              "      <td>Sometimes</td>\n",
              "      <td>Female</td>\n",
              "      <td>Lebanon</td>\n",
              "      <td>18 to 29</td>\n",
              "    </tr>\n",
              "    <tr>\n",
              "      <th>1</th>\n",
              "      <td>3</td>\n",
              "      <td>2</td>\n",
              "      <td>Before coding</td>\n",
              "      <td>Yes</td>\n",
              "      <td>Americano</td>\n",
              "      <td>Yes</td>\n",
              "      <td>Female</td>\n",
              "      <td>Lebanon</td>\n",
              "      <td>30 to 39</td>\n",
              "    </tr>\n",
              "    <tr>\n",
              "      <th>2</th>\n",
              "      <td>5</td>\n",
              "      <td>3</td>\n",
              "      <td>While coding</td>\n",
              "      <td>No</td>\n",
              "      <td>Nescafe</td>\n",
              "      <td>Yes</td>\n",
              "      <td>Female</td>\n",
              "      <td>Lebanon</td>\n",
              "      <td>18 to 29</td>\n",
              "    </tr>\n",
              "    <tr>\n",
              "      <th>3</th>\n",
              "      <td>8</td>\n",
              "      <td>2</td>\n",
              "      <td>Before coding</td>\n",
              "      <td>No</td>\n",
              "      <td>Nescafe</td>\n",
              "      <td>Yes</td>\n",
              "      <td>Male</td>\n",
              "      <td>Lebanon</td>\n",
              "      <td>NaN</td>\n",
              "    </tr>\n",
              "    <tr>\n",
              "      <th>4</th>\n",
              "      <td>10</td>\n",
              "      <td>3</td>\n",
              "      <td>While coding</td>\n",
              "      <td>Sometimes</td>\n",
              "      <td>Turkish</td>\n",
              "      <td>No</td>\n",
              "      <td>Male</td>\n",
              "      <td>Lebanon</td>\n",
              "      <td>18 to 29</td>\n",
              "    </tr>\n",
              "  </tbody>\n",
              "</table>\n",
              "</div>"
            ],
            "text/plain": [
              "   CodingHours  CoffeeCupsPerDay     CoffeeTime  ...  Gender  Country  AgeRange\n",
              "0            8                 2  Before coding  ...  Female  Lebanon  18 to 29\n",
              "1            3                 2  Before coding  ...  Female  Lebanon  30 to 39\n",
              "2            5                 3   While coding  ...  Female  Lebanon  18 to 29\n",
              "3            8                 2  Before coding  ...    Male  Lebanon       NaN\n",
              "4           10                 3   While coding  ...    Male  Lebanon  18 to 29\n",
              "\n",
              "[5 rows x 9 columns]"
            ]
          },
          "metadata": {},
          "execution_count": 37
        }
      ]
    },
    {
      "cell_type": "code",
      "metadata": {
        "colab": {
          "base_uri": "https://localhost:8080/",
          "height": 204
        },
        "id": "4XwHpW2dXjpL",
        "outputId": "a941d5b7-ef8d-49b1-f867-2e23e1573882"
      },
      "source": [
        "df.sample(5)"
      ],
      "execution_count": 6,
      "outputs": [
        {
          "output_type": "execute_result",
          "data": {
            "text/html": [
              "<div>\n",
              "<style scoped>\n",
              "    .dataframe tbody tr th:only-of-type {\n",
              "        vertical-align: middle;\n",
              "    }\n",
              "\n",
              "    .dataframe tbody tr th {\n",
              "        vertical-align: top;\n",
              "    }\n",
              "\n",
              "    .dataframe thead th {\n",
              "        text-align: right;\n",
              "    }\n",
              "</style>\n",
              "<table border=\"1\" class=\"dataframe\">\n",
              "  <thead>\n",
              "    <tr style=\"text-align: right;\">\n",
              "      <th></th>\n",
              "      <th>CodingHours</th>\n",
              "      <th>CoffeeCupsPerDay</th>\n",
              "      <th>CoffeeTime</th>\n",
              "      <th>CodingWithoutCoffee</th>\n",
              "      <th>CoffeeType</th>\n",
              "      <th>CoffeeSolveBugs</th>\n",
              "      <th>Gender</th>\n",
              "      <th>Country</th>\n",
              "      <th>AgeRange</th>\n",
              "    </tr>\n",
              "  </thead>\n",
              "  <tbody>\n",
              "    <tr>\n",
              "      <th>53</th>\n",
              "      <td>3</td>\n",
              "      <td>3</td>\n",
              "      <td>While coding</td>\n",
              "      <td>No</td>\n",
              "      <td>Turkish</td>\n",
              "      <td>No</td>\n",
              "      <td>Male</td>\n",
              "      <td>Lebanon</td>\n",
              "      <td>18 to 29</td>\n",
              "    </tr>\n",
              "    <tr>\n",
              "      <th>91</th>\n",
              "      <td>5</td>\n",
              "      <td>3</td>\n",
              "      <td>While coding</td>\n",
              "      <td>Sometimes</td>\n",
              "      <td>Turkish</td>\n",
              "      <td>Sometimes</td>\n",
              "      <td>Female</td>\n",
              "      <td>Lebanon</td>\n",
              "      <td>18 to 29</td>\n",
              "    </tr>\n",
              "    <tr>\n",
              "      <th>6</th>\n",
              "      <td>5</td>\n",
              "      <td>2</td>\n",
              "      <td>While coding</td>\n",
              "      <td>Yes</td>\n",
              "      <td>Nescafe</td>\n",
              "      <td>Sometimes</td>\n",
              "      <td>Male</td>\n",
              "      <td>Lebanon</td>\n",
              "      <td>NaN</td>\n",
              "    </tr>\n",
              "    <tr>\n",
              "      <th>28</th>\n",
              "      <td>7</td>\n",
              "      <td>1</td>\n",
              "      <td>Before coding</td>\n",
              "      <td>Yes</td>\n",
              "      <td>Nescafe</td>\n",
              "      <td>Yes</td>\n",
              "      <td>Male</td>\n",
              "      <td>Lebanon</td>\n",
              "      <td>30 to 39</td>\n",
              "    </tr>\n",
              "    <tr>\n",
              "      <th>4</th>\n",
              "      <td>10</td>\n",
              "      <td>3</td>\n",
              "      <td>While coding</td>\n",
              "      <td>Sometimes</td>\n",
              "      <td>Turkish</td>\n",
              "      <td>No</td>\n",
              "      <td>Male</td>\n",
              "      <td>Lebanon</td>\n",
              "      <td>18 to 29</td>\n",
              "    </tr>\n",
              "  </tbody>\n",
              "</table>\n",
              "</div>"
            ],
            "text/plain": [
              "    CodingHours  CoffeeCupsPerDay     CoffeeTime  ...  Gender  Country  AgeRange\n",
              "53            3                 3   While coding  ...    Male  Lebanon  18 to 29\n",
              "91            5                 3   While coding  ...  Female  Lebanon  18 to 29\n",
              "6             5                 2   While coding  ...    Male  Lebanon       NaN\n",
              "28            7                 1  Before coding  ...    Male  Lebanon  30 to 39\n",
              "4            10                 3   While coding  ...    Male  Lebanon  18 to 29\n",
              "\n",
              "[5 rows x 9 columns]"
            ]
          },
          "metadata": {},
          "execution_count": 6
        }
      ]
    },
    {
      "cell_type": "markdown",
      "metadata": {
        "id": "q0S6NVxhXpAo"
      },
      "source": [
        "Missing Values Handling"
      ]
    },
    {
      "cell_type": "code",
      "metadata": {
        "colab": {
          "base_uri": "https://localhost:8080/"
        },
        "id": "og4vCyZnYVyw",
        "outputId": "f9d0e947-f04a-4ce6-caa3-ee72b3a82410"
      },
      "source": [
        "# number of missing values per column\n",
        "df.isna().sum()"
      ],
      "execution_count": 7,
      "outputs": [
        {
          "output_type": "execute_result",
          "data": {
            "text/plain": [
              "CodingHours            0\n",
              "CoffeeCupsPerDay       0\n",
              "CoffeeTime             0\n",
              "CodingWithoutCoffee    0\n",
              "CoffeeType             1\n",
              "CoffeeSolveBugs        0\n",
              "Gender                 0\n",
              "Country                0\n",
              "AgeRange               2\n",
              "dtype: int64"
            ]
          },
          "metadata": {},
          "execution_count": 7
        }
      ]
    },
    {
      "cell_type": "code",
      "metadata": {
        "id": "m510cNL4YfsS"
      },
      "source": [
        "#drop missing value\n",
        "df = df.dropna()"
      ],
      "execution_count": 8,
      "outputs": []
    },
    {
      "cell_type": "markdown",
      "metadata": {
        "id": "Gv43gOMOYsFr"
      },
      "source": [
        "Duplicated Handling"
      ]
    },
    {
      "cell_type": "code",
      "metadata": {
        "colab": {
          "base_uri": "https://localhost:8080/",
          "height": 235
        },
        "id": "C23I1D4VY2yb",
        "outputId": "645f8b3a-9f9b-43e5-c97f-354923254321"
      },
      "source": [
        "# sample duplicated rows\n",
        "df[df.duplicated(keep=False)].sort_values('CodingHours')"
      ],
      "execution_count": 9,
      "outputs": [
        {
          "output_type": "execute_result",
          "data": {
            "text/html": [
              "<div>\n",
              "<style scoped>\n",
              "    .dataframe tbody tr th:only-of-type {\n",
              "        vertical-align: middle;\n",
              "    }\n",
              "\n",
              "    .dataframe tbody tr th {\n",
              "        vertical-align: top;\n",
              "    }\n",
              "\n",
              "    .dataframe thead th {\n",
              "        text-align: right;\n",
              "    }\n",
              "</style>\n",
              "<table border=\"1\" class=\"dataframe\">\n",
              "  <thead>\n",
              "    <tr style=\"text-align: right;\">\n",
              "      <th></th>\n",
              "      <th>CodingHours</th>\n",
              "      <th>CoffeeCupsPerDay</th>\n",
              "      <th>CoffeeTime</th>\n",
              "      <th>CodingWithoutCoffee</th>\n",
              "      <th>CoffeeType</th>\n",
              "      <th>CoffeeSolveBugs</th>\n",
              "      <th>Gender</th>\n",
              "      <th>Country</th>\n",
              "      <th>AgeRange</th>\n",
              "    </tr>\n",
              "  </thead>\n",
              "  <tbody>\n",
              "    <tr>\n",
              "      <th>49</th>\n",
              "      <td>6</td>\n",
              "      <td>1</td>\n",
              "      <td>Before coding</td>\n",
              "      <td>Yes</td>\n",
              "      <td>Nescafe</td>\n",
              "      <td>No</td>\n",
              "      <td>Male</td>\n",
              "      <td>Lebanon</td>\n",
              "      <td>30 to 39</td>\n",
              "    </tr>\n",
              "    <tr>\n",
              "      <th>50</th>\n",
              "      <td>6</td>\n",
              "      <td>1</td>\n",
              "      <td>Before coding</td>\n",
              "      <td>Yes</td>\n",
              "      <td>Nescafe</td>\n",
              "      <td>No</td>\n",
              "      <td>Male</td>\n",
              "      <td>Lebanon</td>\n",
              "      <td>30 to 39</td>\n",
              "    </tr>\n",
              "    <tr>\n",
              "      <th>27</th>\n",
              "      <td>8</td>\n",
              "      <td>4</td>\n",
              "      <td>While coding</td>\n",
              "      <td>Sometimes</td>\n",
              "      <td>Turkish</td>\n",
              "      <td>Yes</td>\n",
              "      <td>Male</td>\n",
              "      <td>Lebanon</td>\n",
              "      <td>30 to 39</td>\n",
              "    </tr>\n",
              "    <tr>\n",
              "      <th>41</th>\n",
              "      <td>8</td>\n",
              "      <td>4</td>\n",
              "      <td>While coding</td>\n",
              "      <td>Sometimes</td>\n",
              "      <td>Turkish</td>\n",
              "      <td>Yes</td>\n",
              "      <td>Male</td>\n",
              "      <td>Lebanon</td>\n",
              "      <td>30 to 39</td>\n",
              "    </tr>\n",
              "    <tr>\n",
              "      <th>10</th>\n",
              "      <td>10</td>\n",
              "      <td>3</td>\n",
              "      <td>While coding</td>\n",
              "      <td>Sometimes</td>\n",
              "      <td>American Coffee</td>\n",
              "      <td>Sometimes</td>\n",
              "      <td>Male</td>\n",
              "      <td>Lebanon</td>\n",
              "      <td>30 to 39</td>\n",
              "    </tr>\n",
              "    <tr>\n",
              "      <th>16</th>\n",
              "      <td>10</td>\n",
              "      <td>3</td>\n",
              "      <td>While coding</td>\n",
              "      <td>Sometimes</td>\n",
              "      <td>American Coffee</td>\n",
              "      <td>Sometimes</td>\n",
              "      <td>Male</td>\n",
              "      <td>Lebanon</td>\n",
              "      <td>30 to 39</td>\n",
              "    </tr>\n",
              "  </tbody>\n",
              "</table>\n",
              "</div>"
            ],
            "text/plain": [
              "    CodingHours  CoffeeCupsPerDay     CoffeeTime  ... Gender  Country  AgeRange\n",
              "49            6                 1  Before coding  ...   Male  Lebanon  30 to 39\n",
              "50            6                 1  Before coding  ...   Male  Lebanon  30 to 39\n",
              "27            8                 4   While coding  ...   Male  Lebanon  30 to 39\n",
              "41            8                 4   While coding  ...   Male  Lebanon  30 to 39\n",
              "10           10                 3   While coding  ...   Male  Lebanon  30 to 39\n",
              "16           10                 3   While coding  ...   Male  Lebanon  30 to 39\n",
              "\n",
              "[6 rows x 9 columns]"
            ]
          },
          "metadata": {},
          "execution_count": 9
        }
      ]
    },
    {
      "cell_type": "code",
      "metadata": {
        "id": "1OFQGdt9ZDUh"
      },
      "source": [
        "#drop duplicate\n",
        "df = df.drop_duplicates()"
      ],
      "execution_count": 10,
      "outputs": []
    },
    {
      "cell_type": "markdown",
      "metadata": {
        "id": "6F4DamZtZef1"
      },
      "source": [
        "DATA UNDERSTANDING"
      ]
    },
    {
      "cell_type": "code",
      "metadata": {
        "id": "O4PrtrlFZhfS"
      },
      "source": [
        "# group column names based on type\n",
        "# it will make our life easier onwards\n",
        "df_numericals = ['CodingHours', 'CoffeeCupsPerDay']\n",
        "df_categoricals = ['CoffeeTime', 'CodingWithoutCoffee', 'CoffeeType', 'CoffeeSolveBugs', 'Gender', 'Country', 'AgeRange']"
      ],
      "execution_count": 11,
      "outputs": []
    },
    {
      "cell_type": "code",
      "metadata": {
        "colab": {
          "base_uri": "https://localhost:8080/",
          "height": 297
        },
        "id": "HGnX4SEXbKZ6",
        "outputId": "90ae5cfe-fc02-4378-ba3a-cdf4c37e08a2"
      },
      "source": [
        "df[df_numericals].describe()"
      ],
      "execution_count": 12,
      "outputs": [
        {
          "output_type": "execute_result",
          "data": {
            "text/html": [
              "<div>\n",
              "<style scoped>\n",
              "    .dataframe tbody tr th:only-of-type {\n",
              "        vertical-align: middle;\n",
              "    }\n",
              "\n",
              "    .dataframe tbody tr th {\n",
              "        vertical-align: top;\n",
              "    }\n",
              "\n",
              "    .dataframe thead th {\n",
              "        text-align: right;\n",
              "    }\n",
              "</style>\n",
              "<table border=\"1\" class=\"dataframe\">\n",
              "  <thead>\n",
              "    <tr style=\"text-align: right;\">\n",
              "      <th></th>\n",
              "      <th>CodingHours</th>\n",
              "      <th>CoffeeCupsPerDay</th>\n",
              "    </tr>\n",
              "  </thead>\n",
              "  <tbody>\n",
              "    <tr>\n",
              "      <th>count</th>\n",
              "      <td>94.000000</td>\n",
              "      <td>94.000000</td>\n",
              "    </tr>\n",
              "    <tr>\n",
              "      <th>mean</th>\n",
              "      <td>6.319149</td>\n",
              "      <td>2.882979</td>\n",
              "    </tr>\n",
              "    <tr>\n",
              "      <th>std</th>\n",
              "      <td>2.660798</td>\n",
              "      <td>1.612161</td>\n",
              "    </tr>\n",
              "    <tr>\n",
              "      <th>min</th>\n",
              "      <td>1.000000</td>\n",
              "      <td>1.000000</td>\n",
              "    </tr>\n",
              "    <tr>\n",
              "      <th>25%</th>\n",
              "      <td>4.000000</td>\n",
              "      <td>2.000000</td>\n",
              "    </tr>\n",
              "    <tr>\n",
              "      <th>50%</th>\n",
              "      <td>7.000000</td>\n",
              "      <td>2.500000</td>\n",
              "    </tr>\n",
              "    <tr>\n",
              "      <th>75%</th>\n",
              "      <td>8.000000</td>\n",
              "      <td>4.000000</td>\n",
              "    </tr>\n",
              "    <tr>\n",
              "      <th>max</th>\n",
              "      <td>10.000000</td>\n",
              "      <td>8.000000</td>\n",
              "    </tr>\n",
              "  </tbody>\n",
              "</table>\n",
              "</div>"
            ],
            "text/plain": [
              "       CodingHours  CoffeeCupsPerDay\n",
              "count    94.000000         94.000000\n",
              "mean      6.319149          2.882979\n",
              "std       2.660798          1.612161\n",
              "min       1.000000          1.000000\n",
              "25%       4.000000          2.000000\n",
              "50%       7.000000          2.500000\n",
              "75%       8.000000          4.000000\n",
              "max      10.000000          8.000000"
            ]
          },
          "metadata": {},
          "execution_count": 12
        }
      ]
    },
    {
      "cell_type": "code",
      "metadata": {
        "colab": {
          "base_uri": "https://localhost:8080/",
          "height": 525
        },
        "id": "msD_bizGvzeU",
        "outputId": "c64ebc3c-c94f-43ab-bab2-c8a1b05a9c8b"
      },
      "source": [
        "#KDE Plot for knowing distribution\n",
        "features = df_numericals\n",
        "plt.figure(figsize=(15,5))\n",
        "sns.set_style('darkgrid')\n",
        "for i in range(0, len(features)):\n",
        "    #plt.subplot(2, len(features)//2, i+1)\n",
        "    plt.subplot(1, len(features), i+1)\n",
        "    sns.distplot(x=df[features[i]], color='#af5f00')\n",
        "    plt.xlabel(features[i])\n",
        "    plt.tight_layout()"
      ],
      "execution_count": 18,
      "outputs": [
        {
          "output_type": "stream",
          "name": "stderr",
          "text": [
            "/usr/local/lib/python3.7/dist-packages/seaborn/distributions.py:2619: FutureWarning:\n",
            "\n",
            "`distplot` is a deprecated function and will be removed in a future version. Please adapt your code to use either `displot` (a figure-level function with similar flexibility) or `histplot` (an axes-level function for histograms).\n",
            "\n",
            "/usr/local/lib/python3.7/dist-packages/seaborn/distributions.py:2619: FutureWarning:\n",
            "\n",
            "`distplot` is a deprecated function and will be removed in a future version. Please adapt your code to use either `displot` (a figure-level function with similar flexibility) or `histplot` (an axes-level function for histograms).\n",
            "\n"
          ]
        },
        {
          "output_type": "display_data",
          "data": {
            "image/png": "[encoded data removed]",
            "text/plain": [
              "<Figure size 1080x360 with 2 Axes>"
            ]
          },
          "metadata": {}
        }
      ]
    },
    {
      "cell_type": "markdown",
      "metadata": {
        "id": "lH8ZiLMJpSBl"
      },
      "source": [
        "Observation : \n",
        "1. Overall, the minimum and maximum values make sense for each column\n",
        "2. Mean ~ Median in `CodingHours` and `CoffeeCupsPerDay` columns, indicating somewhat a symmetrical distribution\n",
        "3. we also get information that the average person coding for 6-7 hours and the average person drinks coffee about 2-3 cups per day"
      ]
    },
    {
      "cell_type": "code",
      "metadata": {
        "colab": {
          "base_uri": "https://localhost:8080/",
          "height": 173
        },
        "id": "SD5q-toGbdI4",
        "outputId": "ee94fd33-167b-4f43-a03a-8160b537ed7c"
      },
      "source": [
        "df[df_categoricals].describe()"
      ],
      "execution_count": 19,
      "outputs": [
        {
          "output_type": "execute_result",
          "data": {
            "text/html": [
              "<div>\n",
              "<style scoped>\n",
              "    .dataframe tbody tr th:only-of-type {\n",
              "        vertical-align: middle;\n",
              "    }\n",
              "\n",
              "    .dataframe tbody tr th {\n",
              "        vertical-align: top;\n",
              "    }\n",
              "\n",
              "    .dataframe thead th {\n",
              "        text-align: right;\n",
              "    }\n",
              "</style>\n",
              "<table border=\"1\" class=\"dataframe\">\n",
              "  <thead>\n",
              "    <tr style=\"text-align: right;\">\n",
              "      <th></th>\n",
              "      <th>CoffeeTime</th>\n",
              "      <th>CodingWithoutCoffee</th>\n",
              "      <th>CoffeeType</th>\n",
              "      <th>CoffeeSolveBugs</th>\n",
              "      <th>Gender</th>\n",
              "      <th>Country</th>\n",
              "      <th>AgeRange</th>\n",
              "    </tr>\n",
              "  </thead>\n",
              "  <tbody>\n",
              "    <tr>\n",
              "      <th>count</th>\n",
              "      <td>94</td>\n",
              "      <td>94</td>\n",
              "      <td>94</td>\n",
              "      <td>94</td>\n",
              "      <td>94</td>\n",
              "      <td>94</td>\n",
              "      <td>94</td>\n",
              "    </tr>\n",
              "    <tr>\n",
              "      <th>unique</th>\n",
              "      <td>7</td>\n",
              "      <td>3</td>\n",
              "      <td>8</td>\n",
              "      <td>3</td>\n",
              "      <td>2</td>\n",
              "      <td>1</td>\n",
              "      <td>5</td>\n",
              "    </tr>\n",
              "    <tr>\n",
              "      <th>top</th>\n",
              "      <td>While coding</td>\n",
              "      <td>Sometimes</td>\n",
              "      <td>Nescafe</td>\n",
              "      <td>Sometimes</td>\n",
              "      <td>Male</td>\n",
              "      <td>Lebanon</td>\n",
              "      <td>18 to 29</td>\n",
              "    </tr>\n",
              "    <tr>\n",
              "      <th>freq</th>\n",
              "      <td>57</td>\n",
              "      <td>48</td>\n",
              "      <td>29</td>\n",
              "      <td>41</td>\n",
              "      <td>68</td>\n",
              "      <td>94</td>\n",
              "      <td>59</td>\n",
              "    </tr>\n",
              "  </tbody>\n",
              "</table>\n",
              "</div>"
            ],
            "text/plain": [
              "          CoffeeTime CodingWithoutCoffee CoffeeType  ... Gender  Country  AgeRange\n",
              "count             94                  94         94  ...     94       94        94\n",
              "unique             7                   3          8  ...      2        1         5\n",
              "top     While coding           Sometimes    Nescafe  ...   Male  Lebanon  18 to 29\n",
              "freq              57                  48         29  ...     68       94        59\n",
              "\n",
              "[4 rows x 7 columns]"
            ]
          },
          "metadata": {},
          "execution_count": 19
        }
      ]
    },
    {
      "cell_type": "markdown",
      "metadata": {
        "id": "mRxzVN5ZrGQA"
      },
      "source": [
        "Observation :\n",
        "Most of the data have > 2 unique values"
      ]
    },
    {
      "cell_type": "code",
      "metadata": {
        "colab": {
          "base_uri": "https://localhost:8080/"
        },
        "id": "EvDNaQNNbyPF",
        "outputId": "cf9b4306-60ea-4492-e9ec-60760b26ac11"
      },
      "source": [
        "# showing the precise value counts\n",
        "for col in df_categoricals[1:]:\n",
        "  print(f\"Value counts of {col} column\")\n",
        "  print(df[col].value_counts(), '\\n')"
      ],
      "execution_count": 21,
      "outputs": [
        {
          "output_type": "stream",
          "name": "stdout",
          "text": [
            "Value counts of CodingWithoutCoffee column\n",
            "Sometimes    48\n",
            "Yes          28\n",
            "No           18\n",
            "Name: CodingWithoutCoffee, dtype: int64 \n",
            "\n",
            "Value counts of CoffeeType column\n",
            "Nescafe                     29\n",
            "American Coffee             22\n",
            "Turkish                     18\n",
            "Espresso (Short Black)       8\n",
            "Cappuccino                   7\n",
            "Caffè latte                  5\n",
            "Double Espresso (Doppio)     3\n",
            "Americano                    2\n",
            "Name: CoffeeType, dtype: int64 \n",
            "\n",
            "Value counts of CoffeeSolveBugs column\n",
            "Sometimes    41\n",
            "Yes          28\n",
            "No           25\n",
            "Name: CoffeeSolveBugs, dtype: int64 \n",
            "\n",
            "Value counts of Gender column\n",
            "Male      68\n",
            "Female    26\n",
            "Name: Gender, dtype: int64 \n",
            "\n",
            "Value counts of Country column\n",
            "Lebanon    94\n",
            "Name: Country, dtype: int64 \n",
            "\n",
            "Value counts of AgeRange column\n",
            "18 to 29    59\n",
            "30 to 39    26\n",
            "40 to 49     6\n",
            "Under 18     2\n",
            "50 to 59     1\n",
            "Name: AgeRange, dtype: int64 \n",
            "\n"
          ]
        }
      ]
    },
    {
      "cell_type": "markdown",
      "metadata": {
        "id": "pcHGZkh9b7_e"
      },
      "source": [
        "UNIVARIATE ANALYSIS"
      ]
    },
    {
      "cell_type": "code",
      "metadata": {
        "colab": {
          "base_uri": "https://localhost:8080/",
          "height": 297
        },
        "id": "ag1XrRyFb-9s",
        "outputId": "c5aac09e-7b4b-4be2-a481-a08899b836ac"
      },
      "source": [
        "#Boxplot to detect outliers\n",
        "features = df_numericals\n",
        "for i in range(0, len(features)):\n",
        "    plt.subplot(1, len(features), i+1)\n",
        "    sns.boxplot(y=df[features[i]], color='#af5f00')\n",
        "    plt.tight_layout()"
      ],
      "execution_count": 23,
      "outputs": [
        {
          "output_type": "display_data",
          "data": {
            "image/png": "[encoded data removed]",
            "text/plain": [
              "<Figure size 432x288 with 2 Axes>"
            ]
          },
          "metadata": {}
        }
      ]
    },
    {
      "cell_type": "code",
      "metadata": {
        "colab": {
          "base_uri": "https://localhost:8080/"
        },
        "id": "-y-bKSjbcWAD",
        "outputId": "bf8e467c-79d9-4b76-8fa3-b722b02eb216"
      },
      "source": [
        "df['CoffeeCupsPerDay'].value_counts()"
      ],
      "execution_count": 38,
      "outputs": [
        {
          "output_type": "execute_result",
          "data": {
            "text/plain": [
              "2    34\n",
              "3    23\n",
              "1    16\n",
              "4    15\n",
              "6     4\n",
              "7     3\n",
              "5     3\n",
              "8     2\n",
              "Name: CoffeeCupsPerDay, dtype: int64"
            ]
          },
          "metadata": {},
          "execution_count": 38
        }
      ]
    },
    {
      "cell_type": "markdown",
      "metadata": {
        "id": "f38KPpCdsZpy"
      },
      "source": [
        "Observation : \n",
        "There is outlier in `CoffeeCupsPerDay` column, it is > 7 cups of coffee per day and it's still make sense"
      ]
    },
    {
      "cell_type": "markdown",
      "metadata": {
        "id": "8frFCF2teDEw"
      },
      "source": [
        "MULTIVARIATE ANALYSIS"
      ]
    },
    {
      "cell_type": "code",
      "metadata": {
        "colab": {
          "base_uri": "https://localhost:8080/",
          "height": 286
        },
        "id": "ZKKiQftXeGmG",
        "outputId": "a2400b90-46ff-4866-8d51-d2df33708077"
      },
      "source": [
        "#heatmap correlation\n",
        "color_map = plt.cm.get_cmap('YlOrBr')\n",
        "reversed_color_map = color_map.reversed()\n",
        "\n",
        "correlation = df.corr()\n",
        "sns.heatmap(correlation, annot=True, cmap=reversed_color_map)"
      ],
      "execution_count": 32,
      "outputs": [
        {
          "output_type": "execute_result",
          "data": {
            "text/plain": [
              "<matplotlib.axes._subplots.AxesSubplot at 0x7f385bf00a90>"
            ]
          },
          "metadata": {},
          "execution_count": 32
        },
        {
          "output_type": "display_data",
          "data": {
            "image/png": "[encoded data removed]",
            "text/plain": [
              "<Figure size 432x288 with 2 Axes>"
            ]
          },
          "metadata": {}
        }
      ]
    },
    {
      "cell_type": "markdown",
      "metadata": {
        "id": "xm99JEqgxVz2"
      },
      "source": [
        "Observation :    \n",
        "correlation between `CodingHours` and `CoffeeCupsPerDay` is 0.3, not very correlated"
      ]
    },
    {
      "cell_type": "markdown",
      "metadata": {
        "id": "XZEUkplXdizz"
      },
      "source": [
        "Plot for knowing frequency of each column"
      ]
    },
    {
      "cell_type": "code",
      "metadata": {
        "colab": {
          "base_uri": "https://localhost:8080/",
          "height": 296
        },
        "id": "plTpAvFvcEyk",
        "outputId": "f10b6711-bbd6-4bc5-8cd6-b18572d621e1"
      },
      "source": [
        "sns.scatterplot(data=df, x='CodingHours', y='CoffeeCupsPerDay', color='#af5f00')"
      ],
      "execution_count": 39,
      "outputs": [
        {
          "output_type": "execute_result",
          "data": {
            "text/plain": [
              "<matplotlib.axes._subplots.AxesSubplot at 0x7f3864e75550>"
            ]
          },
          "metadata": {},
          "execution_count": 39
        },
        {
          "output_type": "display_data",
          "data": {
            "image/png": "[encoded data removed]",
            "text/plain": [
              "<Figure size 432x288 with 1 Axes>"
            ]
          },
          "metadata": {}
        }
      ]
    },
    {
      "cell_type": "code",
      "metadata": {
        "colab": {
          "base_uri": "https://localhost:8080/",
          "height": 296
        },
        "id": "MHREWv5jkcOI",
        "outputId": "b96c9f9b-80ce-4ed0-9188-3f45f79a8748"
      },
      "source": [
        "#Plot for knowing frequency of each column\n",
        "sns.set_style('darkgrid')\n",
        "sns.countplot(data=df,\n",
        "            x='CoffeeCupsPerDay', color='#af5f00')"
      ],
      "execution_count": 27,
      "outputs": [
        {
          "output_type": "execute_result",
          "data": {
            "text/plain": [
              "<matplotlib.axes._subplots.AxesSubplot at 0x7f385b968f90>"
            ]
          },
          "metadata": {},
          "execution_count": 27
        },
        {
          "output_type": "display_data",
          "data": {
            "image/png": "[encoded data removed]",
            "text/plain": [
              "<Figure size 432x288 with 1 Axes>"
            ]
          },
          "metadata": {}
        }
      ]
    },
    {
      "cell_type": "code",
      "metadata": {
        "colab": {
          "base_uri": "https://localhost:8080/",
          "height": 296
        },
        "id": "QT_TJdUBkAJ9",
        "outputId": "f5a93394-9fb9-40e8-cd19-206a351bbeb4"
      },
      "source": [
        "sns.countplot(data=df, x='CodingHours', color='#af5f00')"
      ],
      "execution_count": 28,
      "outputs": [
        {
          "output_type": "execute_result",
          "data": {
            "text/plain": [
              "<matplotlib.axes._subplots.AxesSubplot at 0x7f385bd6d410>"
            ]
          },
          "metadata": {},
          "execution_count": 28
        },
        {
          "output_type": "display_data",
          "data": {
            "image/png": "[encoded data removed]",
            "text/plain": [
              "<Figure size 432x288 with 1 Axes>"
            ]
          },
          "metadata": {}
        }
      ]
    },
    {
      "cell_type": "markdown",
      "metadata": {
        "id": "Bdt8JClpcOV3"
      },
      "source": [
        "Observations :    \n",
        "1. Most people drink 2 cups of coffee\n",
        "2. Most of the people code for 8 hours\n",
        "3. People who code 10 hours can drink up to 8 cups of coffee"
      ]
    },
    {
      "cell_type": "code",
      "metadata": {
        "colab": {
          "base_uri": "https://localhost:8080/",
          "height": 296
        },
        "id": "O0Szm8R9gkrU",
        "outputId": "dfe9e8b4-85b0-40e3-b40b-68edb4b47882"
      },
      "source": [
        "sns.countplot(data=df,\n",
        "            x='AgeRange', color='#af5f00')"
      ],
      "execution_count": 33,
      "outputs": [
        {
          "output_type": "execute_result",
          "data": {
            "text/plain": [
              "<matplotlib.axes._subplots.AxesSubplot at 0x7f385c5c6450>"
            ]
          },
          "metadata": {},
          "execution_count": 33
        },
        {
          "output_type": "display_data",
          "data": {
            "image/png": "[encoded data removed]",
            "text/plain": [
              "<Figure size 432x288 with 1 Axes>"
            ]
          },
          "metadata": {}
        }
      ]
    },
    {
      "cell_type": "markdown",
      "metadata": {
        "id": "jLDcCRbRdSN9"
      },
      "source": [
        "Most of people who code are between 18 to 29 years old\n"
      ]
    },
    {
      "cell_type": "code",
      "metadata": {
        "colab": {
          "base_uri": "https://localhost:8080/",
          "height": 542
        },
        "id": "woFJODgLgw12",
        "outputId": "e75e75c8-3596-4bc5-eee7-56bfc6f29c7b"
      },
      "source": [
        "px.bar(df, x = 'CodingWithoutCoffee' ,y = 'CoffeeCupsPerDay',color = 'CoffeeTime',\n",
        "       title = \"<b>Coffee Type wise Analyzing</b>\",template=\"plotly_dark\")"
      ],
      "execution_count": 42,
      "outputs": [
        {
          "output_type": "display_data",
          "data": {
            "text/html": [
              "<html>\n",
              "<head><meta charset=\"utf-8\" /></head>\n",
              "<body>\n",
              "    <div>\n",
              "            <script src=\"https://cdnjs.cloudflare.com/ajax/libs/mathjax/2.7.5/MathJax.js?config=TeX-AMS-MML_SVG\"></script><script type=\"text/javascript\">if (window.MathJax) {MathJax.Hub.Config({SVG: {font: \"STIX-Web\"}});}</script>\n",
              "                <script type=\"text/javascript\">window.PlotlyConfig = {MathJaxConfig: 'local'};</script>\n",
              "        <script src=\"https://cdn.plot.ly/plotly-latest.min.js\"></script>    \n",
              "            <div id=\"8ac7db05-0165-407f-accc-7333e763bc87\" class=\"plotly-graph-div\" style=\"height:525px; width:100%;\"></div>\n",
              "            <script type=\"text/javascript\">\n",
              "                \n",
              "                    window.PLOTLYENV=window.PLOTLYENV || {};\n",
              "                    \n",
              "                if (document.getElementById(\"8ac7db05-0165-407f-accc-7333e763bc87\")) {\n",
              "                    Plotly.newPlot(\n",
              "                        '8ac7db05-0165-407f-accc-7333e763bc87',\n",
              "                        [{\"alignmentgroup\": \"True\", \"hoverlabel\": {\"namelength\": 0}, \"hovertemplate\": \"CoffeeTime=Before coding<br>CodingWithoutCoffee=%{x}<br>CoffeeCupsPerDay=%{y}\", \"legendgroup\": \"CoffeeTime=Before coding\", \"marker\": {\"color\": \"#636efa\"}, \"name\": \"CoffeeTime=Before coding\", \"offsetgroup\": \"CoffeeTime=Before coding\", \"orientation\": \"v\", \"showlegend\": true, \"textposition\": \"auto\", \"type\": \"bar\", \"x\": [\"Yes\", \"Yes\", \"No\", \"Sometimes\", \"Sometimes\", \"Yes\", \"Sometimes\", \"Yes\", \"Sometimes\", \"Yes\", \"No\", \"Yes\", \"Yes\", \"Sometimes\", \"Yes\", \"No\", \"Sometimes\", \"Sometimes\", \"Sometimes\", \"Sometimes\", \"Yes\", \"Yes\", \"Sometimes\", \"Yes\", \"Sometimes\"], \"xaxis\": \"x\", \"y\": [2, 2, 2, 4, 3, 1, 4, 1, 2, 1, 2, 1, 1, 2, 2, 4, 2, 1, 1, 2, 1, 2, 1, 3, 4], \"yaxis\": \"y\"}, {\"alignmentgroup\": \"True\", \"hoverlabel\": {\"namelength\": 0}, \"hovertemplate\": \"CoffeeTime=While coding<br>CodingWithoutCoffee=%{x}<br>CoffeeCupsPerDay=%{y}\", \"legendgroup\": \"CoffeeTime=While coding\", \"marker\": {\"color\": \"#EF553B\"}, \"name\": \"CoffeeTime=While coding\", \"offsetgroup\": \"CoffeeTime=While coding\", \"orientation\": \"v\", \"showlegend\": true, \"textposition\": \"auto\", \"type\": \"bar\", \"x\": [\"No\", \"Sometimes\", \"Sometimes\", \"Yes\", \"Yes\", \"Yes\", \"Sometimes\", \"Sometimes\", \"No\", \"Sometimes\", \"Yes\", \"No\", \"Yes\", \"Sometimes\", \"Sometimes\", \"No\", \"Sometimes\", \"Yes\", \"Sometimes\", \"Sometimes\", \"No\", \"Sometimes\", \"Yes\", \"Yes\", \"Yes\", \"Sometimes\", \"Sometimes\", \"Sometimes\", \"Sometimes\", \"Sometimes\", \"Sometimes\", \"Sometimes\", \"No\", \"Sometimes\", \"No\", \"Sometimes\", \"Sometimes\", \"No\", \"Sometimes\", \"No\", \"Sometimes\", \"Sometimes\", \"Sometimes\", \"Sometimes\", \"No\", \"Sometimes\", \"Sometimes\", \"Sometimes\", \"Sometimes\", \"Sometimes\", \"Yes\", \"Sometimes\", \"Yes\", \"Sometimes\", \"Yes\", \"Sometimes\", \"Sometimes\", \"Sometimes\", \"Sometimes\", \"Yes\", \"Sometimes\"], \"xaxis\": \"x\", \"y\": [3, 3, 2, 2, 2, 2, 3, 3, 3, 3, 4, 3, 3, 5, 2, 3, 3, 3, 4, 2, 2, 2, 2, 1, 2, 2, 4, 2, 6, 2, 1, 3, 3, 4, 8, 2, 4, 4, 2, 4, 2, 6, 4, 5, 2, 6, 2, 3, 2, 5, 1, 3, 3, 3, 2, 3, 1, 3, 3, 2, 2], \"yaxis\": \"y\"}, {\"alignmentgroup\": \"True\", \"hoverlabel\": {\"namelength\": 0}, \"hovertemplate\": \"CoffeeTime=Before and while coding<br>CodingWithoutCoffee=%{x}<br>CoffeeCupsPerDay=%{y}\", \"legendgroup\": \"CoffeeTime=Before and while coding\", \"marker\": {\"color\": \"#00cc96\"}, \"name\": \"CoffeeTime=Before and while coding\", \"offsetgroup\": \"CoffeeTime=Before and while coding\", \"orientation\": \"v\", \"showlegend\": true, \"textposition\": \"auto\", \"type\": \"bar\", \"x\": [\"No\", \"No\", \"No\", \"Sometimes\"], \"xaxis\": \"x\", \"y\": [2, 7, 4, 4], \"yaxis\": \"y\"}, {\"alignmentgroup\": \"True\", \"hoverlabel\": {\"namelength\": 0}, \"hovertemplate\": \"CoffeeTime=In the morning<br>CodingWithoutCoffee=%{x}<br>CoffeeCupsPerDay=%{y}\", \"legendgroup\": \"CoffeeTime=In the morning\", \"marker\": {\"color\": \"#ab63fa\"}, \"name\": \"CoffeeTime=In the morning\", \"offsetgroup\": \"CoffeeTime=In the morning\", \"orientation\": \"v\", \"showlegend\": true, \"textposition\": \"auto\", \"type\": \"bar\", \"x\": [\"Yes\", \"Yes\", \"Yes\"], \"xaxis\": \"x\", \"y\": [1, 1, 1], \"yaxis\": \"y\"}, {\"alignmentgroup\": \"True\", \"hoverlabel\": {\"namelength\": 0}, \"hovertemplate\": \"CoffeeTime=All the time<br>CodingWithoutCoffee=%{x}<br>CoffeeCupsPerDay=%{y}\", \"legendgroup\": \"CoffeeTime=All the time\", \"marker\": {\"color\": \"#FFA15A\"}, \"name\": \"CoffeeTime=All the time\", \"offsetgroup\": \"CoffeeTime=All the time\", \"orientation\": \"v\", \"showlegend\": true, \"textposition\": \"auto\", \"type\": \"bar\", \"x\": [\"No\", \"Sometimes\", \"No\", \"No\"], \"xaxis\": \"x\", \"y\": [6, 3, 8, 7], \"yaxis\": \"y\"}, {\"alignmentgroup\": \"True\", \"hoverlabel\": {\"namelength\": 0}, \"hovertemplate\": \"CoffeeTime=After coding<br>CodingWithoutCoffee=%{x}<br>CoffeeCupsPerDay=%{y}\", \"legendgroup\": \"CoffeeTime=After coding\", \"marker\": {\"color\": \"#19d3f3\"}, \"name\": \"CoffeeTime=After coding\", \"offsetgroup\": \"CoffeeTime=After coding\", \"orientation\": \"v\", \"showlegend\": true, \"textposition\": \"auto\", \"type\": \"bar\", \"x\": [\"Yes\", \"Yes\"], \"xaxis\": \"x\", \"y\": [7, 2], \"yaxis\": \"y\"}, {\"alignmentgroup\": \"True\", \"hoverlabel\": {\"namelength\": 0}, \"hovertemplate\": \"CoffeeTime=No specific time<br>CodingWithoutCoffee=%{x}<br>CoffeeCupsPerDay=%{y}\", \"legendgroup\": \"CoffeeTime=No specific time\", \"marker\": {\"color\": \"#FF6692\"}, \"name\": \"CoffeeTime=No specific time\", \"offsetgroup\": \"CoffeeTime=No specific time\", \"orientation\": \"v\", \"showlegend\": true, \"textposition\": \"auto\", \"type\": \"bar\", \"x\": [\"Yes\"], \"xaxis\": \"x\", \"y\": [4], \"yaxis\": \"y\"}],\n",
              "                        {\"barmode\": \"relative\", \"legend\": {\"tracegroupgap\": 0}, \"template\": {\"data\": {\"bar\": [{\"error_x\": {\"color\": \"#f2f5fa\"}, \"error_y\": {\"color\": \"#f2f5fa\"}, \"marker\": {\"line\": {\"color\": \"rgb(17,17,17)\", \"width\": 0.5}}, \"type\": \"bar\"}], \"barpolar\": [{\"marker\": {\"line\": {\"color\": \"rgb(17,17,17)\", \"width\": 0.5}}, \"type\": \"barpolar\"}], \"carpet\": [{\"aaxis\": {\"endlinecolor\": \"#A2B1C6\", \"gridcolor\": \"#506784\", \"linecolor\": \"#506784\", \"minorgridcolor\": \"#506784\", \"startlinecolor\": \"#A2B1C6\"}, \"baxis\": {\"endlinecolor\": \"#A2B1C6\", \"gridcolor\": \"#506784\", \"linecolor\": \"#506784\", \"minorgridcolor\": \"#506784\", \"startlinecolor\": \"#A2B1C6\"}, \"type\": \"carpet\"}], \"choropleth\": [{\"colorbar\": {\"outlinewidth\": 0, \"ticks\": \"\"}, \"type\": \"choropleth\"}], \"contour\": [{\"colorbar\": {\"outlinewidth\": 0, \"ticks\": \"\"}, \"colorscale\": [[0.0, \"#0d0887\"], [0.1111111111111111, \"#46039f\"], [0.2222222222222222, \"#7201a8\"], [0.3333333333333333, \"#9c179e\"], [0.4444444444444444, \"#bd3786\"], [0.5555555555555556, \"#d8576b\"], [0.6666666666666666, \"#ed7953\"], [0.7777777777777778, \"#fb9f3a\"], [0.8888888888888888, \"#fdca26\"], [1.0, \"#f0f921\"]], \"type\": \"contour\"}], \"contourcarpet\": [{\"colorbar\": {\"outlinewidth\": 0, \"ticks\": \"\"}, \"type\": \"contourcarpet\"}], \"heatmap\": [{\"colorbar\": {\"outlinewidth\": 0, \"ticks\": \"\"}, \"colorscale\": [[0.0, \"#0d0887\"], [0.1111111111111111, \"#46039f\"], [0.2222222222222222, \"#7201a8\"], [0.3333333333333333, \"#9c179e\"], [0.4444444444444444, \"#bd3786\"], [0.5555555555555556, \"#d8576b\"], [0.6666666666666666, \"#ed7953\"], [0.7777777777777778, \"#fb9f3a\"], [0.8888888888888888, \"#fdca26\"], [1.0, \"#f0f921\"]], \"type\": \"heatmap\"}], \"heatmapgl\": [{\"colorbar\": {\"outlinewidth\": 0, \"ticks\": \"\"}, \"colorscale\": [[0.0, \"#0d0887\"], [0.1111111111111111, \"#46039f\"], [0.2222222222222222, \"#7201a8\"], [0.3333333333333333, \"#9c179e\"], [0.4444444444444444, \"#bd3786\"], [0.5555555555555556, \"#d8576b\"], [0.6666666666666666, \"#ed7953\"], [0.7777777777777778, \"#fb9f3a\"], [0.8888888888888888, \"#fdca26\"], [1.0, \"#f0f921\"]], \"type\": \"heatmapgl\"}], \"histogram\": [{\"marker\": {\"colorbar\": {\"outlinewidth\": 0, \"ticks\": \"\"}}, \"type\": \"histogram\"}], \"histogram2d\": [{\"colorbar\": {\"outlinewidth\": 0, \"ticks\": \"\"}, \"colorscale\": [[0.0, \"#0d0887\"], [0.1111111111111111, \"#46039f\"], [0.2222222222222222, \"#7201a8\"], [0.3333333333333333, \"#9c179e\"], [0.4444444444444444, \"#bd3786\"], [0.5555555555555556, \"#d8576b\"], [0.6666666666666666, \"#ed7953\"], [0.7777777777777778, \"#fb9f3a\"], [0.8888888888888888, \"#fdca26\"], [1.0, \"#f0f921\"]], \"type\": \"histogram2d\"}], \"histogram2dcontour\": [{\"colorbar\": {\"outlinewidth\": 0, \"ticks\": \"\"}, \"colorscale\": [[0.0, \"#0d0887\"], [0.1111111111111111, \"#46039f\"], [0.2222222222222222, \"#7201a8\"], [0.3333333333333333, \"#9c179e\"], [0.4444444444444444, \"#bd3786\"], [0.5555555555555556, \"#d8576b\"], [0.6666666666666666, \"#ed7953\"], [0.7777777777777778, \"#fb9f3a\"], [0.8888888888888888, \"#fdca26\"], [1.0, \"#f0f921\"]], \"type\": \"histogram2dcontour\"}], \"mesh3d\": [{\"colorbar\": {\"outlinewidth\": 0, \"ticks\": \"\"}, \"type\": \"mesh3d\"}], \"parcoords\": [{\"line\": {\"colorbar\": {\"outlinewidth\": 0, \"ticks\": \"\"}}, \"type\": \"parcoords\"}], \"pie\": [{\"automargin\": true, \"type\": \"pie\"}], \"scatter\": [{\"marker\": {\"line\": {\"color\": \"#283442\"}}, \"type\": \"scatter\"}], \"scatter3d\": [{\"line\": {\"colorbar\": {\"outlinewidth\": 0, \"ticks\": \"\"}}, \"marker\": {\"colorbar\": {\"outlinewidth\": 0, \"ticks\": \"\"}}, \"type\": \"scatter3d\"}], \"scattercarpet\": [{\"marker\": {\"colorbar\": {\"outlinewidth\": 0, \"ticks\": \"\"}}, \"type\": \"scattercarpet\"}], \"scattergeo\": [{\"marker\": {\"colorbar\": {\"outlinewidth\": 0, \"ticks\": \"\"}}, \"type\": \"scattergeo\"}], \"scattergl\": [{\"marker\": {\"line\": {\"color\": \"#283442\"}}, \"type\": \"scattergl\"}], \"scattermapbox\": [{\"marker\": {\"colorbar\": {\"outlinewidth\": 0, \"ticks\": \"\"}}, \"type\": \"scattermapbox\"}], \"scatterpolar\": [{\"marker\": {\"colorbar\": {\"outlinewidth\": 0, \"ticks\": \"\"}}, \"type\": \"scatterpolar\"}], \"scatterpolargl\": [{\"marker\": {\"colorbar\": {\"outlinewidth\": 0, \"ticks\": \"\"}}, \"type\": \"scatterpolargl\"}], \"scatterternary\": [{\"marker\": {\"colorbar\": {\"outlinewidth\": 0, \"ticks\": \"\"}}, \"type\": \"scatterternary\"}], \"surface\": [{\"colorbar\": {\"outlinewidth\": 0, \"ticks\": \"\"}, \"colorscale\": [[0.0, \"#0d0887\"], [0.1111111111111111, \"#46039f\"], [0.2222222222222222, \"#7201a8\"], [0.3333333333333333, \"#9c179e\"], [0.4444444444444444, \"#bd3786\"], [0.5555555555555556, \"#d8576b\"], [0.6666666666666666, \"#ed7953\"], [0.7777777777777778, \"#fb9f3a\"], [0.8888888888888888, \"#fdca26\"], [1.0, \"#f0f921\"]], \"type\": \"surface\"}], \"table\": [{\"cells\": {\"fill\": {\"color\": \"#506784\"}, \"line\": {\"color\": \"rgb(17,17,17)\"}}, \"header\": {\"fill\": {\"color\": \"#2a3f5f\"}, \"line\": {\"color\": \"rgb(17,17,17)\"}}, \"type\": \"table\"}]}, \"layout\": {\"annotationdefaults\": {\"arrowcolor\": \"#f2f5fa\", \"arrowhead\": 0, \"arrowwidth\": 1}, \"coloraxis\": {\"colorbar\": {\"outlinewidth\": 0, \"ticks\": \"\"}}, \"colorscale\": {\"diverging\": [[0, \"#8e0152\"], [0.1, \"#c51b7d\"], [0.2, \"#de77ae\"], [0.3, \"#f1b6da\"], [0.4, \"#fde0ef\"], [0.5, \"#f7f7f7\"], [0.6, \"#e6f5d0\"], [0.7, \"#b8e186\"], [0.8, \"#7fbc41\"], [0.9, \"#4d9221\"], [1, \"#276419\"]], \"sequential\": [[0.0, \"#0d0887\"], [0.1111111111111111, \"#46039f\"], [0.2222222222222222, \"#7201a8\"], [0.3333333333333333, \"#9c179e\"], [0.4444444444444444, \"#bd3786\"], [0.5555555555555556, \"#d8576b\"], [0.6666666666666666, \"#ed7953\"], [0.7777777777777778, \"#fb9f3a\"], [0.8888888888888888, \"#fdca26\"], [1.0, \"#f0f921\"]], \"sequentialminus\": [[0.0, \"#0d0887\"], [0.1111111111111111, \"#46039f\"], [0.2222222222222222, \"#7201a8\"], [0.3333333333333333, \"#9c179e\"], [0.4444444444444444, \"#bd3786\"], [0.5555555555555556, \"#d8576b\"], [0.6666666666666666, \"#ed7953\"], [0.7777777777777778, \"#fb9f3a\"], [0.8888888888888888, \"#fdca26\"], [1.0, \"#f0f921\"]]}, \"colorway\": [\"#636efa\", \"#EF553B\", \"#00cc96\", \"#ab63fa\", \"#FFA15A\", \"#19d3f3\", \"#FF6692\", \"#B6E880\", \"#FF97FF\", \"#FECB52\"], \"font\": {\"color\": \"#f2f5fa\"}, \"geo\": {\"bgcolor\": \"rgb(17,17,17)\", \"lakecolor\": \"rgb(17,17,17)\", \"landcolor\": \"rgb(17,17,17)\", \"showlakes\": true, \"showland\": true, \"subunitcolor\": \"#506784\"}, \"hoverlabel\": {\"align\": \"left\"}, \"hovermode\": \"closest\", \"mapbox\": {\"style\": \"dark\"}, \"paper_bgcolor\": \"rgb(17,17,17)\", \"plot_bgcolor\": \"rgb(17,17,17)\", \"polar\": {\"angularaxis\": {\"gridcolor\": \"#506784\", \"linecolor\": \"#506784\", \"ticks\": \"\"}, \"bgcolor\": \"rgb(17,17,17)\", \"radialaxis\": {\"gridcolor\": \"#506784\", \"linecolor\": \"#506784\", \"ticks\": \"\"}}, \"scene\": {\"xaxis\": {\"backgroundcolor\": \"rgb(17,17,17)\", \"gridcolor\": \"#506784\", \"gridwidth\": 2, \"linecolor\": \"#506784\", \"showbackground\": true, \"ticks\": \"\", \"zerolinecolor\": \"#C8D4E3\"}, \"yaxis\": {\"backgroundcolor\": \"rgb(17,17,17)\", \"gridcolor\": \"#506784\", \"gridwidth\": 2, \"linecolor\": \"#506784\", \"showbackground\": true, \"ticks\": \"\", \"zerolinecolor\": \"#C8D4E3\"}, \"zaxis\": {\"backgroundcolor\": \"rgb(17,17,17)\", \"gridcolor\": \"#506784\", \"gridwidth\": 2, \"linecolor\": \"#506784\", \"showbackground\": true, \"ticks\": \"\", \"zerolinecolor\": \"#C8D4E3\"}}, \"shapedefaults\": {\"line\": {\"color\": \"#f2f5fa\"}}, \"sliderdefaults\": {\"bgcolor\": \"#C8D4E3\", \"bordercolor\": \"rgb(17,17,17)\", \"borderwidth\": 1, \"tickwidth\": 0}, \"ternary\": {\"aaxis\": {\"gridcolor\": \"#506784\", \"linecolor\": \"#506784\", \"ticks\": \"\"}, \"baxis\": {\"gridcolor\": \"#506784\", \"linecolor\": \"#506784\", \"ticks\": \"\"}, \"bgcolor\": \"rgb(17,17,17)\", \"caxis\": {\"gridcolor\": \"#506784\", \"linecolor\": \"#506784\", \"ticks\": \"\"}}, \"title\": {\"x\": 0.05}, \"updatemenudefaults\": {\"bgcolor\": \"#506784\", \"borderwidth\": 0}, \"xaxis\": {\"automargin\": true, \"gridcolor\": \"#283442\", \"linecolor\": \"#506784\", \"ticks\": \"\", \"title\": {\"standoff\": 15}, \"zerolinecolor\": \"#283442\", \"zerolinewidth\": 2}, \"yaxis\": {\"automargin\": true, \"gridcolor\": \"#283442\", \"linecolor\": \"#506784\", \"ticks\": \"\", \"title\": {\"standoff\": 15}, \"zerolinecolor\": \"#283442\", \"zerolinewidth\": 2}}}, \"title\": {\"text\": \"<b>Coffee Type wise Analyzing</b>\"}, \"xaxis\": {\"anchor\": \"y\", \"domain\": [0.0, 1.0], \"title\": {\"text\": \"CodingWithoutCoffee\"}}, \"yaxis\": {\"anchor\": \"x\", \"domain\": [0.0, 1.0], \"title\": {\"text\": \"CoffeeCupsPerDay\"}}},\n",
              "                        {\"responsive\": true}\n",
              "                    ).then(function(){\n",
              "                            \n",
              "var gd = document.getElementById('8ac7db05-0165-407f-accc-7333e763bc87');\n",
              "var x = new MutationObserver(function (mutations, observer) {{\n",
              "        var display = window.getComputedStyle(gd).display;\n",
              "        if (!display || display === 'none') {{\n",
              "            console.log([gd, 'removed!']);\n",
              "            Plotly.purge(gd);\n",
              "            observer.disconnect();\n",
              "        }}\n",
              "}});\n",
              "\n",
              "// Listen for the removal of the full notebook cells\n",
              "var notebookContainer = gd.closest('#notebook-container');\n",
              "if (notebookContainer) {{\n",
              "    x.observe(notebookContainer, {childList: true});\n",
              "}}\n",
              "\n",
              "// Listen for the clearing of the current output cell\n",
              "var outputEl = gd.closest('.output');\n",
              "if (outputEl) {{\n",
              "    x.observe(outputEl, {childList: true});\n",
              "}}\n",
              "\n",
              "                        })\n",
              "                };\n",
              "                \n",
              "            </script>\n",
              "        </div>\n",
              "</body>\n",
              "</html>"
            ]
          },
          "metadata": {}
        }
      ]
    },
    {
      "cell_type": "code",
      "metadata": {
        "colab": {
          "base_uri": "https://localhost:8080/",
          "height": 461
        },
        "id": "_X56b2q6i_I5",
        "outputId": "29a278df-4996-48c3-d90d-645ab7949d79"
      },
      "source": [
        "features = df_categoricals[1:-1] \n",
        "plt.figure(figsize=(18,6))\n",
        "for i in range(0, len(features)):\n",
        "    plt.subplot(2, 3, i+1)\n",
        "    sns.countplot(data=df,\n",
        "            x=features[i], color='#af5f00')\n",
        "    plt.xticks(rotation=30)\n",
        "    plt.tight_layout()"
      ],
      "execution_count": 40,
      "outputs": [
        {
          "output_type": "display_data",
          "data": {
            "image/png": "[encoded data removed]",
            "text/plain": [
              "<Figure size 1296x432 with 5 Axes>"
            ]
          },
          "metadata": {}
        }
      ]
    },
    {
      "cell_type": "markdown",
      "metadata": {
        "id": "CZCg0KkBdwkZ"
      },
      "source": [
        "Observations :    \n",
        "1. Most people sometimes code without coffee, and those who drink coffee do it while coding\n",
        "2. Most of the people sometimes solved bugs while drinking coffee, drinking coffee solves more bugs than not drinking coffee\n",
        "3. Nescafe is coffee that often drunk\n",
        "4. Data consists most of males"
      ]
    },
    {
      "cell_type": "code",
      "metadata": {
        "id": "Jdbxvf-Kb5SO"
      },
      "source": [
        ""
      ],
      "execution_count": null,
      "outputs": []
    },
    {
      "cell_type": "markdown",
      "metadata": {
        "id": "XAOZk_FRmr_h"
      },
      "source": [
        "Source : \n",
        "\n",
        "https://www.kaggle.com/shrutikunapuli/coffee-and-code-dataset \n",
        "\n",
        "https://www.fda.gov/consumers/consumer-updates/spilling-beans-how-much-caffeine-too-much "
      ]
    }
  ]
}